{
 "cells": [
  {
   "cell_type": "markdown",
   "metadata": {},
   "source": [
    "# <font color='red'> CIA 3 </font>"
   ]
  },
  {
   "cell_type": "markdown",
   "metadata": {},
   "source": [
    "### <font color='purple'> Name - Renuka Dutta </font>\n",
    "### <font color='purple'> Reg no - 1928141 </font>"
   ]
  },
  {
   "cell_type": "markdown",
   "metadata": {},
   "source": [
    "## <font color='yellow'> EDA on Universal Bank Data set </font>\n",
    "### Contents\n",
    "#### 1.Business understanding\n",
    "#### 2.Data understanding\n",
    "#### 3.Checking the numbers of rows and columns\n",
    "#### 4.checking the data type\n",
    "#### 5.check for the null and duplicate values\n",
    "#### 6.Data pre-processing\n",
    "#### 7.outlier detection\n",
    "#### 8.using scatter plot and appropriate graphs to see the data distribution (Data Visualization)\n",
    "#### 9.Preparing a heatmap for the data (Data Vusualization)\n",
    "#### 10.Finding out correlation between the different variable\n",
    "#### 11.Inserting images\n",
    "#### 12.Building a statistical model (Basic)"
   ]
  },
  {
   "cell_type": "markdown",
   "metadata": {},
   "source": [
    "### <font color='orange'>Business understanding<font>\n",
    "#### <font color='turquoise'>The data is related to banking domain to be precise it belongs to the loan lending wing of the domain.Loan has always been a very heated up financial topic to be discussed all around the world. Every other day we get to hear about the frauds that take place with respect to loans and defaulters in this sections.The data provided here will help us to detect the patterns and trends that usually help us to detect the correct person who is eligible for the loan.</font>"
   ]
  },
  {
   "cell_type": "code",
   "execution_count": 6,
   "metadata": {},
   "outputs": [],
   "source": [
    "# Importing required libraries.\n",
    "import pandas as pd\n",
    "import numpy as np\n",
    "\n",
    "import seaborn as sns \n",
    "import matplotlib.pyplot as plt\n",
    "get_ipython().run_line_magic('matplotlib', 'inline')\n",
    "sns.set(color_codes=True)\n"
   ]
  },
  {
   "cell_type": "code",
   "execution_count": 7,
   "metadata": {},
   "outputs": [],
   "source": [
    "from sklearn.tree import export_graphviz\n",
    "from sklearn.metrics import roc_curve\n",
    "from sklearn.metrics import auc"
   ]
  },
  {
   "cell_type": "code",
   "execution_count": 8,
   "metadata": {},
   "outputs": [],
   "source": [
    "# for classification\n",
    "from sklearn.model_selection import train_test_split\n",
    "from sklearn.ensemble import RandomForestClassifier\n",
    "from sklearn.metrics import confusion_matrix\n",
    "from sklearn.metrics import classification_report"
   ]
  },
  {
   "cell_type": "markdown",
   "metadata": {},
   "source": [
    "### <font color='brown'> In this project we have used pandas,numpy,seaborn(visualisation),matplotlib(visualisation) and sklearn for statistical modelling (logistic regression) </font>"
   ]
  },
  {
   "cell_type": "code",
   "execution_count": 10,
   "metadata": {},
   "outputs": [],
   "source": [
    "# Reading the data \n",
    "\n",
    "df = pd.read_csv(\"UniversalBank.csv\")"
   ]
  },
  {
   "cell_type": "code",
   "execution_count": 12,
   "metadata": {},
   "outputs": [
    {
     "data": {
      "text/plain": [
       "ID                      int64\n",
       "Age                     int64\n",
       "Experience              int64\n",
       "Income                  int64\n",
       "ZIP Code                int64\n",
       "Family                  int64\n",
       "CCAvg                 float64\n",
       "Education               int64\n",
       "Mortgage                int64\n",
       "Personal Loan           int64\n",
       "Securities Account      int64\n",
       "CD Account              int64\n",
       "Online                  int64\n",
       "CreditCard              int64\n",
       "dtype: object"
      ]
     },
     "execution_count": 12,
     "metadata": {},
     "output_type": "execute_result"
    }
   ],
   "source": [
    "# Checking the data type\n",
    "df.dtypes"
   ]
  },
  {
   "cell_type": "markdown",
   "metadata": {},
   "source": [
    "#### <font color='brown'>All the variables are integer type only CCAvg is float in nature.</font>"
   ]
  },
  {
   "cell_type": "code",
   "execution_count": 13,
   "metadata": {},
   "outputs": [
    {
     "data": {
      "text/plain": [
       "(5000, 14)"
      ]
     },
     "execution_count": 13,
     "metadata": {},
     "output_type": "execute_result"
    }
   ],
   "source": [
    "# Total number of rows and columns\n",
    "df.shape\n"
   ]
  },
  {
   "cell_type": "markdown",
   "metadata": {},
   "source": [
    "#### <font color='light green'> there 5000 rows and 14 columns in the dataset.</font>"
   ]
  },
  {
   "cell_type": "code",
   "execution_count": 14,
   "metadata": {},
   "outputs": [
    {
     "data": {
      "text/html": [
       "<div>\n",
       "<style scoped>\n",
       "    .dataframe tbody tr th:only-of-type {\n",
       "        vertical-align: middle;\n",
       "    }\n",
       "\n",
       "    .dataframe tbody tr th {\n",
       "        vertical-align: top;\n",
       "    }\n",
       "\n",
       "    .dataframe thead th {\n",
       "        text-align: right;\n",
       "    }\n",
       "</style>\n",
       "<table border=\"1\" class=\"dataframe\">\n",
       "  <thead>\n",
       "    <tr style=\"text-align: right;\">\n",
       "      <th></th>\n",
       "      <th>ID</th>\n",
       "      <th>Age</th>\n",
       "      <th>Experience</th>\n",
       "      <th>Income</th>\n",
       "      <th>ZIP Code</th>\n",
       "      <th>Family</th>\n",
       "      <th>CCAvg</th>\n",
       "      <th>Education</th>\n",
       "      <th>Mortgage</th>\n",
       "      <th>Personal Loan</th>\n",
       "      <th>Securities Account</th>\n",
       "      <th>CD Account</th>\n",
       "      <th>Online</th>\n",
       "      <th>CreditCard</th>\n",
       "    </tr>\n",
       "  </thead>\n",
       "  <tbody>\n",
       "    <tr>\n",
       "      <th>count</th>\n",
       "      <td>5000.000000</td>\n",
       "      <td>5000.000000</td>\n",
       "      <td>5000.000000</td>\n",
       "      <td>5000.000000</td>\n",
       "      <td>5000.000000</td>\n",
       "      <td>5000.000000</td>\n",
       "      <td>5000.000000</td>\n",
       "      <td>5000.000000</td>\n",
       "      <td>5000.000000</td>\n",
       "      <td>5000.000000</td>\n",
       "      <td>5000.000000</td>\n",
       "      <td>5000.00000</td>\n",
       "      <td>5000.000000</td>\n",
       "      <td>5000.000000</td>\n",
       "    </tr>\n",
       "    <tr>\n",
       "      <th>mean</th>\n",
       "      <td>2500.500000</td>\n",
       "      <td>45.338400</td>\n",
       "      <td>20.104600</td>\n",
       "      <td>73.774200</td>\n",
       "      <td>93152.503000</td>\n",
       "      <td>2.396400</td>\n",
       "      <td>1.937938</td>\n",
       "      <td>1.881000</td>\n",
       "      <td>56.498800</td>\n",
       "      <td>0.096000</td>\n",
       "      <td>0.104400</td>\n",
       "      <td>0.06040</td>\n",
       "      <td>0.596800</td>\n",
       "      <td>0.294000</td>\n",
       "    </tr>\n",
       "    <tr>\n",
       "      <th>std</th>\n",
       "      <td>1443.520003</td>\n",
       "      <td>11.463166</td>\n",
       "      <td>11.467954</td>\n",
       "      <td>46.033729</td>\n",
       "      <td>2121.852197</td>\n",
       "      <td>1.147663</td>\n",
       "      <td>1.747659</td>\n",
       "      <td>0.839869</td>\n",
       "      <td>101.713802</td>\n",
       "      <td>0.294621</td>\n",
       "      <td>0.305809</td>\n",
       "      <td>0.23825</td>\n",
       "      <td>0.490589</td>\n",
       "      <td>0.455637</td>\n",
       "    </tr>\n",
       "    <tr>\n",
       "      <th>min</th>\n",
       "      <td>1.000000</td>\n",
       "      <td>23.000000</td>\n",
       "      <td>-3.000000</td>\n",
       "      <td>8.000000</td>\n",
       "      <td>9307.000000</td>\n",
       "      <td>1.000000</td>\n",
       "      <td>0.000000</td>\n",
       "      <td>1.000000</td>\n",
       "      <td>0.000000</td>\n",
       "      <td>0.000000</td>\n",
       "      <td>0.000000</td>\n",
       "      <td>0.00000</td>\n",
       "      <td>0.000000</td>\n",
       "      <td>0.000000</td>\n",
       "    </tr>\n",
       "    <tr>\n",
       "      <th>25%</th>\n",
       "      <td>1250.750000</td>\n",
       "      <td>35.000000</td>\n",
       "      <td>10.000000</td>\n",
       "      <td>39.000000</td>\n",
       "      <td>91911.000000</td>\n",
       "      <td>1.000000</td>\n",
       "      <td>0.700000</td>\n",
       "      <td>1.000000</td>\n",
       "      <td>0.000000</td>\n",
       "      <td>0.000000</td>\n",
       "      <td>0.000000</td>\n",
       "      <td>0.00000</td>\n",
       "      <td>0.000000</td>\n",
       "      <td>0.000000</td>\n",
       "    </tr>\n",
       "    <tr>\n",
       "      <th>50%</th>\n",
       "      <td>2500.500000</td>\n",
       "      <td>45.000000</td>\n",
       "      <td>20.000000</td>\n",
       "      <td>64.000000</td>\n",
       "      <td>93437.000000</td>\n",
       "      <td>2.000000</td>\n",
       "      <td>1.500000</td>\n",
       "      <td>2.000000</td>\n",
       "      <td>0.000000</td>\n",
       "      <td>0.000000</td>\n",
       "      <td>0.000000</td>\n",
       "      <td>0.00000</td>\n",
       "      <td>1.000000</td>\n",
       "      <td>0.000000</td>\n",
       "    </tr>\n",
       "    <tr>\n",
       "      <th>75%</th>\n",
       "      <td>3750.250000</td>\n",
       "      <td>55.000000</td>\n",
       "      <td>30.000000</td>\n",
       "      <td>98.000000</td>\n",
       "      <td>94608.000000</td>\n",
       "      <td>3.000000</td>\n",
       "      <td>2.500000</td>\n",
       "      <td>3.000000</td>\n",
       "      <td>101.000000</td>\n",
       "      <td>0.000000</td>\n",
       "      <td>0.000000</td>\n",
       "      <td>0.00000</td>\n",
       "      <td>1.000000</td>\n",
       "      <td>1.000000</td>\n",
       "    </tr>\n",
       "    <tr>\n",
       "      <th>max</th>\n",
       "      <td>5000.000000</td>\n",
       "      <td>67.000000</td>\n",
       "      <td>43.000000</td>\n",
       "      <td>224.000000</td>\n",
       "      <td>96651.000000</td>\n",
       "      <td>4.000000</td>\n",
       "      <td>10.000000</td>\n",
       "      <td>3.000000</td>\n",
       "      <td>635.000000</td>\n",
       "      <td>1.000000</td>\n",
       "      <td>1.000000</td>\n",
       "      <td>1.00000</td>\n",
       "      <td>1.000000</td>\n",
       "      <td>1.000000</td>\n",
       "    </tr>\n",
       "  </tbody>\n",
       "</table>\n",
       "</div>"
      ],
      "text/plain": [
       "                ID          Age   Experience       Income      ZIP Code  \\\n",
       "count  5000.000000  5000.000000  5000.000000  5000.000000   5000.000000   \n",
       "mean   2500.500000    45.338400    20.104600    73.774200  93152.503000   \n",
       "std    1443.520003    11.463166    11.467954    46.033729   2121.852197   \n",
       "min       1.000000    23.000000    -3.000000     8.000000   9307.000000   \n",
       "25%    1250.750000    35.000000    10.000000    39.000000  91911.000000   \n",
       "50%    2500.500000    45.000000    20.000000    64.000000  93437.000000   \n",
       "75%    3750.250000    55.000000    30.000000    98.000000  94608.000000   \n",
       "max    5000.000000    67.000000    43.000000   224.000000  96651.000000   \n",
       "\n",
       "            Family        CCAvg    Education     Mortgage  Personal Loan  \\\n",
       "count  5000.000000  5000.000000  5000.000000  5000.000000    5000.000000   \n",
       "mean      2.396400     1.937938     1.881000    56.498800       0.096000   \n",
       "std       1.147663     1.747659     0.839869   101.713802       0.294621   \n",
       "min       1.000000     0.000000     1.000000     0.000000       0.000000   \n",
       "25%       1.000000     0.700000     1.000000     0.000000       0.000000   \n",
       "50%       2.000000     1.500000     2.000000     0.000000       0.000000   \n",
       "75%       3.000000     2.500000     3.000000   101.000000       0.000000   \n",
       "max       4.000000    10.000000     3.000000   635.000000       1.000000   \n",
       "\n",
       "       Securities Account  CD Account       Online   CreditCard  \n",
       "count         5000.000000  5000.00000  5000.000000  5000.000000  \n",
       "mean             0.104400     0.06040     0.596800     0.294000  \n",
       "std              0.305809     0.23825     0.490589     0.455637  \n",
       "min              0.000000     0.00000     0.000000     0.000000  \n",
       "25%              0.000000     0.00000     0.000000     0.000000  \n",
       "50%              0.000000     0.00000     1.000000     0.000000  \n",
       "75%              0.000000     0.00000     1.000000     1.000000  \n",
       "max              1.000000     1.00000     1.000000     1.000000  "
      ]
     },
     "execution_count": 14,
     "metadata": {},
     "output_type": "execute_result"
    }
   ],
   "source": [
    "# Summarizing the data\n",
    "\n",
    "df.describe()"
   ]
  },
  {
   "cell_type": "markdown",
   "metadata": {},
   "source": [
    "### <font color='orange'>Data description</font>\n",
    "####  * Mean age of the customer applying for loan is 45 yrs and the mean is around 73 lakh dollars. also, the mean family members of the applicant is 2 or 3 with education level of mostly 1 for the applicant. The mean mortgage amount for the applicants goes to 56.49 lakh dollars depending upon the loan applied for.\n",
    "####  * <font colour='pink'>The minimum age of the customer ion this data set is 23 and the maximum age is 67.</font>\n",
    "####  * <font colour='pink'>The minimum work experience of the customer are 8 months and maximum is 43 months.</font>\n",
    "####  * <font colour='pink'>The minimum income of the applicant is 8 and maximum is 224.</font>\n",
    "####  * <font colour='pink'>The minimum family size in the data set is 1 and maximum is 4.</font>\n",
    "####  * <font colour='pink'>The minimum education level is 1 and the maximum level is 3.</font>\n",
    "####  * <font colour='pink'>The minimum mortgage by the customer are 0 and maximum is 635.</font>\n",
    "####  * <font colour='pink'>the minimum credit card avg is 0 and maximum is 10.</font>\n",
    "####  * <font colour='pink'>Personal loan,securities account, CD account are binary in nature.</font>"
   ]
  },
  {
   "cell_type": "code",
   "execution_count": 15,
   "metadata": {},
   "outputs": [
    {
     "data": {
      "text/html": [
       "<div>\n",
       "<style scoped>\n",
       "    .dataframe tbody tr th:only-of-type {\n",
       "        vertical-align: middle;\n",
       "    }\n",
       "\n",
       "    .dataframe tbody tr th {\n",
       "        vertical-align: top;\n",
       "    }\n",
       "\n",
       "    .dataframe thead th {\n",
       "        text-align: right;\n",
       "    }\n",
       "</style>\n",
       "<table border=\"1\" class=\"dataframe\">\n",
       "  <thead>\n",
       "    <tr style=\"text-align: right;\">\n",
       "      <th></th>\n",
       "      <th>ID</th>\n",
       "      <th>Age</th>\n",
       "      <th>Experience</th>\n",
       "      <th>Income</th>\n",
       "      <th>ZIP Code</th>\n",
       "      <th>Family</th>\n",
       "      <th>CCAvg</th>\n",
       "      <th>Education</th>\n",
       "      <th>Mortgage</th>\n",
       "      <th>Personal Loan</th>\n",
       "      <th>Securities Account</th>\n",
       "      <th>CD Account</th>\n",
       "      <th>Online</th>\n",
       "      <th>CreditCard</th>\n",
       "    </tr>\n",
       "  </thead>\n",
       "  <tbody>\n",
       "    <tr>\n",
       "      <th>0</th>\n",
       "      <td>1</td>\n",
       "      <td>25</td>\n",
       "      <td>1</td>\n",
       "      <td>49</td>\n",
       "      <td>91107</td>\n",
       "      <td>4</td>\n",
       "      <td>1.6</td>\n",
       "      <td>1</td>\n",
       "      <td>0</td>\n",
       "      <td>0</td>\n",
       "      <td>1</td>\n",
       "      <td>0</td>\n",
       "      <td>0</td>\n",
       "      <td>0</td>\n",
       "    </tr>\n",
       "    <tr>\n",
       "      <th>1</th>\n",
       "      <td>2</td>\n",
       "      <td>45</td>\n",
       "      <td>19</td>\n",
       "      <td>34</td>\n",
       "      <td>90089</td>\n",
       "      <td>3</td>\n",
       "      <td>1.5</td>\n",
       "      <td>1</td>\n",
       "      <td>0</td>\n",
       "      <td>0</td>\n",
       "      <td>1</td>\n",
       "      <td>0</td>\n",
       "      <td>0</td>\n",
       "      <td>0</td>\n",
       "    </tr>\n",
       "    <tr>\n",
       "      <th>2</th>\n",
       "      <td>3</td>\n",
       "      <td>39</td>\n",
       "      <td>15</td>\n",
       "      <td>11</td>\n",
       "      <td>94720</td>\n",
       "      <td>1</td>\n",
       "      <td>1.0</td>\n",
       "      <td>1</td>\n",
       "      <td>0</td>\n",
       "      <td>0</td>\n",
       "      <td>0</td>\n",
       "      <td>0</td>\n",
       "      <td>0</td>\n",
       "      <td>0</td>\n",
       "    </tr>\n",
       "    <tr>\n",
       "      <th>3</th>\n",
       "      <td>4</td>\n",
       "      <td>35</td>\n",
       "      <td>9</td>\n",
       "      <td>100</td>\n",
       "      <td>94112</td>\n",
       "      <td>1</td>\n",
       "      <td>2.7</td>\n",
       "      <td>2</td>\n",
       "      <td>0</td>\n",
       "      <td>0</td>\n",
       "      <td>0</td>\n",
       "      <td>0</td>\n",
       "      <td>0</td>\n",
       "      <td>0</td>\n",
       "    </tr>\n",
       "    <tr>\n",
       "      <th>4</th>\n",
       "      <td>5</td>\n",
       "      <td>35</td>\n",
       "      <td>8</td>\n",
       "      <td>45</td>\n",
       "      <td>91330</td>\n",
       "      <td>4</td>\n",
       "      <td>1.0</td>\n",
       "      <td>2</td>\n",
       "      <td>0</td>\n",
       "      <td>0</td>\n",
       "      <td>0</td>\n",
       "      <td>0</td>\n",
       "      <td>0</td>\n",
       "      <td>1</td>\n",
       "    </tr>\n",
       "  </tbody>\n",
       "</table>\n",
       "</div>"
      ],
      "text/plain": [
       "   ID  Age  Experience  Income  ZIP Code  Family  CCAvg  Education  Mortgage  \\\n",
       "0   1   25           1      49     91107       4    1.6          1         0   \n",
       "1   2   45          19      34     90089       3    1.5          1         0   \n",
       "2   3   39          15      11     94720       1    1.0          1         0   \n",
       "3   4   35           9     100     94112       1    2.7          2         0   \n",
       "4   5   35           8      45     91330       4    1.0          2         0   \n",
       "\n",
       "   Personal Loan  Securities Account  CD Account  Online  CreditCard  \n",
       "0              0                   1           0       0           0  \n",
       "1              0                   1           0       0           0  \n",
       "2              0                   0           0       0           0  \n",
       "3              0                   0           0       0           0  \n",
       "4              0                   0           0       0           1  "
      ]
     },
     "execution_count": 15,
     "metadata": {},
     "output_type": "execute_result"
    }
   ],
   "source": [
    "# To display the top 5 rows\n",
    "df.head(5)\n"
   ]
  },
  {
   "cell_type": "markdown",
   "metadata": {},
   "source": [
    "#### checking the first five rows and columns"
   ]
  },
  {
   "cell_type": "code",
   "execution_count": 16,
   "metadata": {},
   "outputs": [
    {
     "data": {
      "text/html": [
       "<div>\n",
       "<style scoped>\n",
       "    .dataframe tbody tr th:only-of-type {\n",
       "        vertical-align: middle;\n",
       "    }\n",
       "\n",
       "    .dataframe tbody tr th {\n",
       "        vertical-align: top;\n",
       "    }\n",
       "\n",
       "    .dataframe thead th {\n",
       "        text-align: right;\n",
       "    }\n",
       "</style>\n",
       "<table border=\"1\" class=\"dataframe\">\n",
       "  <thead>\n",
       "    <tr style=\"text-align: right;\">\n",
       "      <th></th>\n",
       "      <th>ID</th>\n",
       "      <th>Age</th>\n",
       "      <th>Experience</th>\n",
       "      <th>Income</th>\n",
       "      <th>ZIP Code</th>\n",
       "      <th>Family</th>\n",
       "      <th>CCAvg</th>\n",
       "      <th>Education</th>\n",
       "      <th>Mortgage</th>\n",
       "      <th>Personal Loan</th>\n",
       "      <th>Securities Account</th>\n",
       "      <th>CD Account</th>\n",
       "      <th>Online</th>\n",
       "      <th>CreditCard</th>\n",
       "    </tr>\n",
       "  </thead>\n",
       "  <tbody>\n",
       "    <tr>\n",
       "      <th>4995</th>\n",
       "      <td>4996</td>\n",
       "      <td>29</td>\n",
       "      <td>3</td>\n",
       "      <td>40</td>\n",
       "      <td>92697</td>\n",
       "      <td>1</td>\n",
       "      <td>1.9</td>\n",
       "      <td>3</td>\n",
       "      <td>0</td>\n",
       "      <td>0</td>\n",
       "      <td>0</td>\n",
       "      <td>0</td>\n",
       "      <td>1</td>\n",
       "      <td>0</td>\n",
       "    </tr>\n",
       "    <tr>\n",
       "      <th>4996</th>\n",
       "      <td>4997</td>\n",
       "      <td>30</td>\n",
       "      <td>4</td>\n",
       "      <td>15</td>\n",
       "      <td>92037</td>\n",
       "      <td>4</td>\n",
       "      <td>0.4</td>\n",
       "      <td>1</td>\n",
       "      <td>85</td>\n",
       "      <td>0</td>\n",
       "      <td>0</td>\n",
       "      <td>0</td>\n",
       "      <td>1</td>\n",
       "      <td>0</td>\n",
       "    </tr>\n",
       "    <tr>\n",
       "      <th>4997</th>\n",
       "      <td>4998</td>\n",
       "      <td>63</td>\n",
       "      <td>39</td>\n",
       "      <td>24</td>\n",
       "      <td>93023</td>\n",
       "      <td>2</td>\n",
       "      <td>0.3</td>\n",
       "      <td>3</td>\n",
       "      <td>0</td>\n",
       "      <td>0</td>\n",
       "      <td>0</td>\n",
       "      <td>0</td>\n",
       "      <td>0</td>\n",
       "      <td>0</td>\n",
       "    </tr>\n",
       "    <tr>\n",
       "      <th>4998</th>\n",
       "      <td>4999</td>\n",
       "      <td>65</td>\n",
       "      <td>40</td>\n",
       "      <td>49</td>\n",
       "      <td>90034</td>\n",
       "      <td>3</td>\n",
       "      <td>0.5</td>\n",
       "      <td>2</td>\n",
       "      <td>0</td>\n",
       "      <td>0</td>\n",
       "      <td>0</td>\n",
       "      <td>0</td>\n",
       "      <td>1</td>\n",
       "      <td>0</td>\n",
       "    </tr>\n",
       "    <tr>\n",
       "      <th>4999</th>\n",
       "      <td>5000</td>\n",
       "      <td>28</td>\n",
       "      <td>4</td>\n",
       "      <td>83</td>\n",
       "      <td>92612</td>\n",
       "      <td>3</td>\n",
       "      <td>0.8</td>\n",
       "      <td>1</td>\n",
       "      <td>0</td>\n",
       "      <td>0</td>\n",
       "      <td>0</td>\n",
       "      <td>0</td>\n",
       "      <td>1</td>\n",
       "      <td>1</td>\n",
       "    </tr>\n",
       "  </tbody>\n",
       "</table>\n",
       "</div>"
      ],
      "text/plain": [
       "        ID  Age  Experience  Income  ZIP Code  Family  CCAvg  Education  \\\n",
       "4995  4996   29           3      40     92697       1    1.9          3   \n",
       "4996  4997   30           4      15     92037       4    0.4          1   \n",
       "4997  4998   63          39      24     93023       2    0.3          3   \n",
       "4998  4999   65          40      49     90034       3    0.5          2   \n",
       "4999  5000   28           4      83     92612       3    0.8          1   \n",
       "\n",
       "      Mortgage  Personal Loan  Securities Account  CD Account  Online  \\\n",
       "4995         0              0                   0           0       1   \n",
       "4996        85              0                   0           0       1   \n",
       "4997         0              0                   0           0       0   \n",
       "4998         0              0                   0           0       1   \n",
       "4999         0              0                   0           0       1   \n",
       "\n",
       "      CreditCard  \n",
       "4995           0  \n",
       "4996           0  \n",
       "4997           0  \n",
       "4998           0  \n",
       "4999           1  "
      ]
     },
     "execution_count": 16,
     "metadata": {},
     "output_type": "execute_result"
    }
   ],
   "source": [
    "# To display the bottom 5 rows\n",
    "df.tail(5) \n"
   ]
  },
  {
   "cell_type": "markdown",
   "metadata": {},
   "source": [
    "#### checking the last 5 rows and columns"
   ]
  },
  {
   "cell_type": "code",
   "execution_count": 17,
   "metadata": {},
   "outputs": [
    {
     "name": "stdout",
     "output_type": "stream",
     "text": [
      "number of duplicate rows: (0, 14)\n"
     ]
    }
   ],
   "source": [
    "# Rows containing duplicate data\n",
    "duplicate_rows_df = df[df.duplicated()]\n",
    "print(\"number of duplicate rows:\", duplicate_rows_df.shape)\n"
   ]
  },
  {
   "cell_type": "markdown",
   "metadata": {},
   "source": [
    "#### There are no duplicate rows present in the dataset."
   ]
  },
  {
   "cell_type": "code",
   "execution_count": 18,
   "metadata": {},
   "outputs": [
    {
     "data": {
      "text/plain": [
       "ID                    5000\n",
       "Age                   5000\n",
       "Experience            5000\n",
       "Income                5000\n",
       "ZIP Code              5000\n",
       "Family                5000\n",
       "CCAvg                 5000\n",
       "Education             5000\n",
       "Mortgage              5000\n",
       "Personal Loan         5000\n",
       "Securities Account    5000\n",
       "CD Account            5000\n",
       "Online                5000\n",
       "CreditCard            5000\n",
       "dtype: int64"
      ]
     },
     "execution_count": 18,
     "metadata": {},
     "output_type": "execute_result"
    }
   ],
   "source": [
    "# Used to count the number of rows before removing the data\n",
    "df.count() \n"
   ]
  },
  {
   "cell_type": "code",
   "execution_count": 19,
   "metadata": {},
   "outputs": [
    {
     "name": "stdout",
     "output_type": "stream",
     "text": [
      "ID                    0\n",
      "Age                   0\n",
      "Experience            0\n",
      "Income                0\n",
      "ZIP Code              0\n",
      "Family                0\n",
      "CCAvg                 0\n",
      "Education             0\n",
      "Mortgage              0\n",
      "Personal Loan         0\n",
      "Securities Account    0\n",
      "CD Account            0\n",
      "Online                0\n",
      "CreditCard            0\n",
      "dtype: int64\n"
     ]
    },
    {
     "data": {
      "text/plain": [
       "ID                    5000\n",
       "Age                   5000\n",
       "Experience            5000\n",
       "Income                5000\n",
       "ZIP Code              5000\n",
       "Family                5000\n",
       "CCAvg                 5000\n",
       "Education             5000\n",
       "Mortgage              5000\n",
       "Personal Loan         5000\n",
       "Securities Account    5000\n",
       "CD Account            5000\n",
       "Online                5000\n",
       "CreditCard            5000\n",
       "dtype: int64"
      ]
     },
     "execution_count": 19,
     "metadata": {},
     "output_type": "execute_result"
    }
   ],
   "source": [
    "# Finding the null values.\n",
    "print(df.isnull().sum())\n",
    "# Dropping the missing values.\n",
    "df = df.dropna() \n",
    "df.count()\n"
   ]
  },
  {
   "cell_type": "markdown",
   "metadata": {},
   "source": [
    "#### To cross check the null values we used the code dropping null value. After, using the code we can see that no columns or rows were dropped. Therefore, we can say that there was no null values "
   ]
  },
  {
   "cell_type": "code",
   "execution_count": 20,
   "metadata": {},
   "outputs": [
    {
     "name": "stdout",
     "output_type": "stream",
     "text": [
      "ID                    0\n",
      "Age                   0\n",
      "Experience            0\n",
      "Income                0\n",
      "ZIP Code              0\n",
      "Family                0\n",
      "CCAvg                 0\n",
      "Education             0\n",
      "Mortgage              0\n",
      "Personal Loan         0\n",
      "Securities Account    0\n",
      "CD Account            0\n",
      "Online                0\n",
      "CreditCard            0\n",
      "dtype: int64\n"
     ]
    }
   ],
   "source": [
    "# After dropping the values\n",
    "print(df.isnull().sum()) \n"
   ]
  },
  {
   "cell_type": "markdown",
   "metadata": {},
   "source": [
    "#### There is no null values present"
   ]
  },
  {
   "cell_type": "code",
   "execution_count": 21,
   "metadata": {},
   "outputs": [
    {
     "data": {
      "text/html": [
       "<div>\n",
       "<style scoped>\n",
       "    .dataframe tbody tr th:only-of-type {\n",
       "        vertical-align: middle;\n",
       "    }\n",
       "\n",
       "    .dataframe tbody tr th {\n",
       "        vertical-align: top;\n",
       "    }\n",
       "\n",
       "    .dataframe thead th {\n",
       "        text-align: right;\n",
       "    }\n",
       "</style>\n",
       "<table border=\"1\" class=\"dataframe\">\n",
       "  <thead>\n",
       "    <tr style=\"text-align: right;\">\n",
       "      <th></th>\n",
       "      <th>Age</th>\n",
       "      <th>Experience</th>\n",
       "      <th>Income</th>\n",
       "      <th>Family</th>\n",
       "      <th>CCAvg</th>\n",
       "      <th>Education</th>\n",
       "      <th>Mortgage</th>\n",
       "      <th>Personal Loan</th>\n",
       "      <th>Securities Account</th>\n",
       "      <th>CD Account</th>\n",
       "      <th>Online</th>\n",
       "      <th>CreditCard</th>\n",
       "    </tr>\n",
       "  </thead>\n",
       "  <tbody>\n",
       "    <tr>\n",
       "      <th>0</th>\n",
       "      <td>25</td>\n",
       "      <td>1</td>\n",
       "      <td>49</td>\n",
       "      <td>4</td>\n",
       "      <td>1.6</td>\n",
       "      <td>1</td>\n",
       "      <td>0</td>\n",
       "      <td>0</td>\n",
       "      <td>1</td>\n",
       "      <td>0</td>\n",
       "      <td>0</td>\n",
       "      <td>0</td>\n",
       "    </tr>\n",
       "    <tr>\n",
       "      <th>1</th>\n",
       "      <td>45</td>\n",
       "      <td>19</td>\n",
       "      <td>34</td>\n",
       "      <td>3</td>\n",
       "      <td>1.5</td>\n",
       "      <td>1</td>\n",
       "      <td>0</td>\n",
       "      <td>0</td>\n",
       "      <td>1</td>\n",
       "      <td>0</td>\n",
       "      <td>0</td>\n",
       "      <td>0</td>\n",
       "    </tr>\n",
       "    <tr>\n",
       "      <th>2</th>\n",
       "      <td>39</td>\n",
       "      <td>15</td>\n",
       "      <td>11</td>\n",
       "      <td>1</td>\n",
       "      <td>1.0</td>\n",
       "      <td>1</td>\n",
       "      <td>0</td>\n",
       "      <td>0</td>\n",
       "      <td>0</td>\n",
       "      <td>0</td>\n",
       "      <td>0</td>\n",
       "      <td>0</td>\n",
       "    </tr>\n",
       "    <tr>\n",
       "      <th>3</th>\n",
       "      <td>35</td>\n",
       "      <td>9</td>\n",
       "      <td>100</td>\n",
       "      <td>1</td>\n",
       "      <td>2.7</td>\n",
       "      <td>2</td>\n",
       "      <td>0</td>\n",
       "      <td>0</td>\n",
       "      <td>0</td>\n",
       "      <td>0</td>\n",
       "      <td>0</td>\n",
       "      <td>0</td>\n",
       "    </tr>\n",
       "    <tr>\n",
       "      <th>4</th>\n",
       "      <td>35</td>\n",
       "      <td>8</td>\n",
       "      <td>45</td>\n",
       "      <td>4</td>\n",
       "      <td>1.0</td>\n",
       "      <td>2</td>\n",
       "      <td>0</td>\n",
       "      <td>0</td>\n",
       "      <td>0</td>\n",
       "      <td>0</td>\n",
       "      <td>0</td>\n",
       "      <td>1</td>\n",
       "    </tr>\n",
       "  </tbody>\n",
       "</table>\n",
       "</div>"
      ],
      "text/plain": [
       "   Age  Experience  Income  Family  CCAvg  Education  Mortgage  Personal Loan  \\\n",
       "0   25           1      49       4    1.6          1         0              0   \n",
       "1   45          19      34       3    1.5          1         0              0   \n",
       "2   39          15      11       1    1.0          1         0              0   \n",
       "3   35           9     100       1    2.7          2         0              0   \n",
       "4   35           8      45       4    1.0          2         0              0   \n",
       "\n",
       "   Securities Account  CD Account  Online  CreditCard  \n",
       "0                   1           0       0           0  \n",
       "1                   1           0       0           0  \n",
       "2                   0           0       0           0  \n",
       "3                   0           0       0           0  \n",
       "4                   0           0       0           1  "
      ]
     },
     "execution_count": 21,
     "metadata": {},
     "output_type": "execute_result"
    }
   ],
   "source": [
    "# Dropping irrelevant columns\n",
    "df1 = df.drop(['ID', 'ZIP Code'], axis=1)\n",
    "df1.head(5)\n"
   ]
  },
  {
   "cell_type": "markdown",
   "metadata": {},
   "source": [
    "#### Dropping of the invaluable variables"
   ]
  },
  {
   "cell_type": "markdown",
   "metadata": {},
   "source": [
    "### <font color='purple'> The data used for this project is related to universal bank which is used for loan classification.The number of rows in this data set are 5000 and the columns are 14. By performing the further analysis we can see that there are <font color='green'>no null and duplicate values</font> in the data set.we have dropped the columns like Id and zip code which is not required for the analysis.Also, we have renamed few columns like <font color='blue'> CC Avg into credit card avg.</font></font>"
   ]
  },
  {
   "cell_type": "code",
   "execution_count": 22,
   "metadata": {},
   "outputs": [
    {
     "data": {
      "text/plain": [
       "<matplotlib.axes._subplots.AxesSubplot at 0x182305bc438>"
      ]
     },
     "execution_count": 22,
     "metadata": {},
     "output_type": "execute_result"
    },
    {
     "data": {
      "image/png": "[encoded data removed]",
      "text/plain": [
       "<Figure size 432x288 with 1 Axes>"
      ]
     },
     "metadata": {},
     "output_type": "display_data"
    }
   ],
   "source": [
    "#looking at outliers\n",
    "sns.boxplot(x=df['Experience'])\n"
   ]
  },
  {
   "cell_type": "code",
   "execution_count": 23,
   "metadata": {},
   "outputs": [
    {
     "data": {
      "text/plain": [
       "<matplotlib.axes._subplots.AxesSubplot at 0x182308a0080>"
      ]
     },
     "execution_count": 23,
     "metadata": {},
     "output_type": "execute_result"
    },
    {
     "data": {
      "image/png": "[encoded data removed]",
      "text/plain": [
       "<Figure size 432x288 with 1 Axes>"
      ]
     },
     "metadata": {},
     "output_type": "display_data"
    }
   ],
   "source": [
    "sns.boxplot(x=df['Age'])\n"
   ]
  },
  {
   "cell_type": "code",
   "execution_count": 24,
   "metadata": {},
   "outputs": [
    {
     "data": {
      "text/plain": [
       "<matplotlib.axes._subplots.AxesSubplot at 0x18230915c88>"
      ]
     },
     "execution_count": 24,
     "metadata": {},
     "output_type": "execute_result"
    },
    {
     "data": {
      "image/png": "[encoded data removed]",
      "text/plain": [
       "<Figure size 432x288 with 1 Axes>"
      ]
     },
     "metadata": {},
     "output_type": "display_data"
    }
   ],
   "source": [
    "sns.boxplot(x=df['Income'])\n"
   ]
  },
  {
   "cell_type": "code",
   "execution_count": 25,
   "metadata": {},
   "outputs": [
    {
     "data": {
      "text/plain": [
       "<matplotlib.axes._subplots.AxesSubplot at 0x182309707b8>"
      ]
     },
     "execution_count": 25,
     "metadata": {},
     "output_type": "execute_result"
    },
    {
     "data": {
      "image/png": "[encoded data removed]",
      "text/plain": [
       "<Figure size 432x288 with 1 Axes>"
      ]
     },
     "metadata": {},
     "output_type": "display_data"
    }
   ],
   "source": [
    "sns.boxplot(x=df['Family'])\n"
   ]
  },
  {
   "cell_type": "code",
   "execution_count": 26,
   "metadata": {},
   "outputs": [
    {
     "data": {
      "text/plain": [
       "<matplotlib.axes._subplots.AxesSubplot at 0x182309bea20>"
      ]
     },
     "execution_count": 26,
     "metadata": {},
     "output_type": "execute_result"
    },
    {
     "data": {
      "image/png": "[encoded data removed]",
      "text/plain": [
       "<Figure size 432x288 with 1 Axes>"
      ]
     },
     "metadata": {},
     "output_type": "display_data"
    }
   ],
   "source": [
    "sns.boxplot(x=df['CCAvg'])\n"
   ]
  },
  {
   "cell_type": "code",
   "execution_count": 27,
   "metadata": {},
   "outputs": [
    {
     "data": {
      "text/plain": [
       "<matplotlib.axes._subplots.AxesSubplot at 0x18230a197f0>"
      ]
     },
     "execution_count": 27,
     "metadata": {},
     "output_type": "execute_result"
    },
    {
     "data": {
      "image/png": "[encoded data removed]",
      "text/plain": [
       "<Figure size 432x288 with 1 Axes>"
      ]
     },
     "metadata": {},
     "output_type": "display_data"
    }
   ],
   "source": [
    "sns.boxplot(x=df['Education'])\n"
   ]
  },
  {
   "cell_type": "markdown",
   "metadata": {},
   "source": [
    "### Insights from the boxplot:\n",
    "#### <font color='dark pink'> while checking the outliers we could see that experice, age and data regarding the education has no outliers where as variables like credit card average, family and income have a lot of outliers in them and for this we have used the seaborn and matplotlib packages.</font>"
   ]
  },
  {
   "cell_type": "code",
   "execution_count": 29,
   "metadata": {},
   "outputs": [
    {
     "data": {
      "text/html": [
       "<div>\n",
       "<style scoped>\n",
       "    .dataframe tbody tr th:only-of-type {\n",
       "        vertical-align: middle;\n",
       "    }\n",
       "\n",
       "    .dataframe tbody tr th {\n",
       "        vertical-align: top;\n",
       "    }\n",
       "\n",
       "    .dataframe thead th {\n",
       "        text-align: right;\n",
       "    }\n",
       "</style>\n",
       "<table border=\"1\" class=\"dataframe\">\n",
       "  <thead>\n",
       "    <tr style=\"text-align: right;\">\n",
       "      <th></th>\n",
       "      <th>ID</th>\n",
       "      <th>Age</th>\n",
       "      <th>Experience</th>\n",
       "      <th>Income</th>\n",
       "      <th>ZIP Code</th>\n",
       "      <th>Family</th>\n",
       "      <th>Credit Card Avg.</th>\n",
       "      <th>Education</th>\n",
       "      <th>Mortgage</th>\n",
       "      <th>Personal Loan</th>\n",
       "      <th>Securities Account</th>\n",
       "      <th>CD Account</th>\n",
       "      <th>Online</th>\n",
       "      <th>CreditCard</th>\n",
       "    </tr>\n",
       "  </thead>\n",
       "  <tbody>\n",
       "    <tr>\n",
       "      <th>0</th>\n",
       "      <td>1</td>\n",
       "      <td>25</td>\n",
       "      <td>1</td>\n",
       "      <td>49</td>\n",
       "      <td>91107</td>\n",
       "      <td>4</td>\n",
       "      <td>1.6</td>\n",
       "      <td>1</td>\n",
       "      <td>0</td>\n",
       "      <td>0</td>\n",
       "      <td>1</td>\n",
       "      <td>0</td>\n",
       "      <td>0</td>\n",
       "      <td>0</td>\n",
       "    </tr>\n",
       "    <tr>\n",
       "      <th>1</th>\n",
       "      <td>2</td>\n",
       "      <td>45</td>\n",
       "      <td>19</td>\n",
       "      <td>34</td>\n",
       "      <td>90089</td>\n",
       "      <td>3</td>\n",
       "      <td>1.5</td>\n",
       "      <td>1</td>\n",
       "      <td>0</td>\n",
       "      <td>0</td>\n",
       "      <td>1</td>\n",
       "      <td>0</td>\n",
       "      <td>0</td>\n",
       "      <td>0</td>\n",
       "    </tr>\n",
       "    <tr>\n",
       "      <th>2</th>\n",
       "      <td>3</td>\n",
       "      <td>39</td>\n",
       "      <td>15</td>\n",
       "      <td>11</td>\n",
       "      <td>94720</td>\n",
       "      <td>1</td>\n",
       "      <td>1.0</td>\n",
       "      <td>1</td>\n",
       "      <td>0</td>\n",
       "      <td>0</td>\n",
       "      <td>0</td>\n",
       "      <td>0</td>\n",
       "      <td>0</td>\n",
       "      <td>0</td>\n",
       "    </tr>\n",
       "    <tr>\n",
       "      <th>3</th>\n",
       "      <td>4</td>\n",
       "      <td>35</td>\n",
       "      <td>9</td>\n",
       "      <td>100</td>\n",
       "      <td>94112</td>\n",
       "      <td>1</td>\n",
       "      <td>2.7</td>\n",
       "      <td>2</td>\n",
       "      <td>0</td>\n",
       "      <td>0</td>\n",
       "      <td>0</td>\n",
       "      <td>0</td>\n",
       "      <td>0</td>\n",
       "      <td>0</td>\n",
       "    </tr>\n",
       "    <tr>\n",
       "      <th>4</th>\n",
       "      <td>5</td>\n",
       "      <td>35</td>\n",
       "      <td>8</td>\n",
       "      <td>45</td>\n",
       "      <td>91330</td>\n",
       "      <td>4</td>\n",
       "      <td>1.0</td>\n",
       "      <td>2</td>\n",
       "      <td>0</td>\n",
       "      <td>0</td>\n",
       "      <td>0</td>\n",
       "      <td>0</td>\n",
       "      <td>0</td>\n",
       "      <td>1</td>\n",
       "    </tr>\n",
       "  </tbody>\n",
       "</table>\n",
       "</div>"
      ],
      "text/plain": [
       "   ID  Age  Experience  Income  ZIP Code  Family  Credit Card Avg.  Education  \\\n",
       "0   1   25           1      49     91107       4               1.6          1   \n",
       "1   2   45          19      34     90089       3               1.5          1   \n",
       "2   3   39          15      11     94720       1               1.0          1   \n",
       "3   4   35           9     100     94112       1               2.7          2   \n",
       "4   5   35           8      45     91330       4               1.0          2   \n",
       "\n",
       "   Mortgage  Personal Loan  Securities Account  CD Account  Online  CreditCard  \n",
       "0         0              0                   1           0       0           0  \n",
       "1         0              0                   1           0       0           0  \n",
       "2         0              0                   0           0       0           0  \n",
       "3         0              0                   0           0       0           0  \n",
       "4         0              0                   0           0       0           1  "
      ]
     },
     "execution_count": 29,
     "metadata": {},
     "output_type": "execute_result"
    }
   ],
   "source": [
    "# Renaming the column names\n",
    "df1 = df.rename(columns={\"CCAvg\": \"Credit Card Avg.\"})\n",
    "df1.head(5)\n"
   ]
  },
  {
   "cell_type": "markdown",
   "metadata": {},
   "source": [
    "#### In the above codes are used to rename a particular variables."
   ]
  },
  {
   "cell_type": "code",
   "execution_count": 30,
   "metadata": {},
   "outputs": [
    {
     "name": "stdout",
     "output_type": "stream",
     "text": [
      "ID                    2499.5\n",
      "Age                     20.0\n",
      "Experience              20.0\n",
      "Income                  59.0\n",
      "ZIP Code              2697.0\n",
      "Family                   2.0\n",
      "CCAvg                    1.8\n",
      "Education                2.0\n",
      "Mortgage               101.0\n",
      "Personal Loan            0.0\n",
      "Securities Account       0.0\n",
      "CD Account               0.0\n",
      "Online                   1.0\n",
      "CreditCard               1.0\n",
      "dtype: float64\n"
     ]
    }
   ],
   "source": [
    "Q1 = df.quantile(0.25)\n",
    "Q3 = df.quantile(0.75)\n",
    "IQR = Q3 - Q1\n",
    "print(IQR)\n"
   ]
  },
  {
   "cell_type": "code",
   "execution_count": 31,
   "metadata": {},
   "outputs": [
    {
     "data": {
      "text/plain": [
       "(3645, 14)"
      ]
     },
     "execution_count": 31,
     "metadata": {},
     "output_type": "execute_result"
    }
   ],
   "source": [
    "df = df[~((df < (Q1- 1.5 * IQR)) |(df > (Q3 + 1.5 * IQR))).any(axis=1)]\n",
    "df.shape\n"
   ]
  },
  {
   "cell_type": "code",
   "execution_count": 32,
   "metadata": {},
   "outputs": [
    {
     "data": {
      "text/plain": [
       "<matplotlib.axes._subplots.AxesSubplot at 0x18230a98f60>"
      ]
     },
     "execution_count": 32,
     "metadata": {},
     "output_type": "execute_result"
    },
    {
     "data": {
      "image/png": "[encoded data removed]",
      "text/plain": [
       "<Figure size 432x288 with 1 Axes>"
      ]
     },
     "metadata": {},
     "output_type": "display_data"
    }
   ],
   "source": [
    "sns.countplot(data=df,x=\"CreditCard\")\n"
   ]
  },
  {
   "cell_type": "markdown",
   "metadata": {},
   "source": [
    "#### <font color='magenta pink' >using the above graph we could see the count of credit card holders and we can see that there are 1100 people having credit card and around 2700 people do not have one.</font>"
   ]
  },
  {
   "cell_type": "code",
   "execution_count": 76,
   "metadata": {},
   "outputs": [
    {
     "data": {
      "text/plain": [
       "<matplotlib.axes._subplots.AxesSubplot at 0x182326f3898>"
      ]
     },
     "execution_count": 76,
     "metadata": {},
     "output_type": "execute_result"
    },
    {
     "data": {
      "image/png": "[encoded data removed]",
      "text/plain": [
       "<Figure size 360x360 with 1 Axes>"
      ]
     },
     "metadata": {},
     "output_type": "display_data"
    }
   ],
   "source": [
    "sns.countplot(data=df,x=\"Experience\")\n",
    "\n"
   ]
  },
  {
   "cell_type": "code",
   "execution_count": 72,
   "metadata": {},
   "outputs": [
    {
     "data": {
      "text/plain": [
       "<matplotlib.axes._subplots.AxesSubplot at 0x182310e4588>"
      ]
     },
     "execution_count": 72,
     "metadata": {},
     "output_type": "execute_result"
    },
    {
     "data": {
      "image/png": "[encoded data removed]",
      "text/plain": [
       "<Figure size 360x360 with 1 Axes>"
      ]
     },
     "metadata": {},
     "output_type": "display_data"
    }
   ],
   "source": [
    "\n",
    "sns.countplot(data=df,x=\"Age\")\n"
   ]
  },
  {
   "cell_type": "markdown",
   "metadata": {},
   "source": [
    "#### *Both the graphs above (a) count of experiences tells that most of the poplulation is having a work experience of 15 yrs and 36 yrs\n",
    "#### * (b) the age graph shows us that the minimum age of customers are 23 and and maximum they are of 67 yrs of age , though most of them are ranging between 55-60 yrs approximately."
   ]
  },
  {
   "cell_type": "code",
   "execution_count": 35,
   "metadata": {},
   "outputs": [
    {
     "data": {
      "text/html": [
       "<div>\n",
       "<style scoped>\n",
       "    .dataframe tbody tr th:only-of-type {\n",
       "        vertical-align: middle;\n",
       "    }\n",
       "\n",
       "    .dataframe tbody tr th {\n",
       "        vertical-align: top;\n",
       "    }\n",
       "\n",
       "    .dataframe thead th {\n",
       "        text-align: right;\n",
       "    }\n",
       "</style>\n",
       "<table border=\"1\" class=\"dataframe\">\n",
       "  <thead>\n",
       "    <tr style=\"text-align: right;\">\n",
       "      <th></th>\n",
       "      <th>ID</th>\n",
       "      <th>Age</th>\n",
       "      <th>Experience</th>\n",
       "      <th>Income</th>\n",
       "      <th>ZIP Code</th>\n",
       "      <th>Family</th>\n",
       "      <th>CCAvg</th>\n",
       "      <th>Education</th>\n",
       "      <th>Mortgage</th>\n",
       "      <th>Personal Loan</th>\n",
       "      <th>Securities Account</th>\n",
       "      <th>CD Account</th>\n",
       "      <th>Online</th>\n",
       "      <th>CreditCard</th>\n",
       "    </tr>\n",
       "  </thead>\n",
       "  <tbody>\n",
       "    <tr>\n",
       "      <th>ID</th>\n",
       "      <td>1.000000</td>\n",
       "      <td>0.010304</td>\n",
       "      <td>0.012156</td>\n",
       "      <td>-0.001002</td>\n",
       "      <td>-0.006430</td>\n",
       "      <td>-0.018964</td>\n",
       "      <td>0.013845</td>\n",
       "      <td>0.020894</td>\n",
       "      <td>-0.011974</td>\n",
       "      <td>NaN</td>\n",
       "      <td>NaN</td>\n",
       "      <td>NaN</td>\n",
       "      <td>-0.010720</td>\n",
       "      <td>0.008467</td>\n",
       "    </tr>\n",
       "    <tr>\n",
       "      <th>Age</th>\n",
       "      <td>0.010304</td>\n",
       "      <td>1.000000</td>\n",
       "      <td>0.994048</td>\n",
       "      <td>-0.038458</td>\n",
       "      <td>-0.040376</td>\n",
       "      <td>-0.061385</td>\n",
       "      <td>-0.027979</td>\n",
       "      <td>0.036083</td>\n",
       "      <td>-0.013367</td>\n",
       "      <td>NaN</td>\n",
       "      <td>NaN</td>\n",
       "      <td>NaN</td>\n",
       "      <td>0.020064</td>\n",
       "      <td>0.007383</td>\n",
       "    </tr>\n",
       "    <tr>\n",
       "      <th>Experience</th>\n",
       "      <td>0.012156</td>\n",
       "      <td>0.994048</td>\n",
       "      <td>1.000000</td>\n",
       "      <td>-0.031719</td>\n",
       "      <td>-0.040397</td>\n",
       "      <td>-0.068280</td>\n",
       "      <td>-0.033336</td>\n",
       "      <td>0.007097</td>\n",
       "      <td>-0.012422</td>\n",
       "      <td>NaN</td>\n",
       "      <td>NaN</td>\n",
       "      <td>NaN</td>\n",
       "      <td>0.018798</td>\n",
       "      <td>0.008403</td>\n",
       "    </tr>\n",
       "    <tr>\n",
       "      <th>Income</th>\n",
       "      <td>-0.001002</td>\n",
       "      <td>-0.038458</td>\n",
       "      <td>-0.031719</td>\n",
       "      <td>1.000000</td>\n",
       "      <td>-0.042888</td>\n",
       "      <td>-0.167272</td>\n",
       "      <td>0.476446</td>\n",
       "      <td>-0.245254</td>\n",
       "      <td>-0.052715</td>\n",
       "      <td>NaN</td>\n",
       "      <td>NaN</td>\n",
       "      <td>NaN</td>\n",
       "      <td>0.009050</td>\n",
       "      <td>0.009809</td>\n",
       "    </tr>\n",
       "    <tr>\n",
       "      <th>ZIP Code</th>\n",
       "      <td>-0.006430</td>\n",
       "      <td>-0.040376</td>\n",
       "      <td>-0.040397</td>\n",
       "      <td>-0.042888</td>\n",
       "      <td>1.000000</td>\n",
       "      <td>0.023618</td>\n",
       "      <td>-0.027688</td>\n",
       "      <td>-0.006008</td>\n",
       "      <td>0.007550</td>\n",
       "      <td>NaN</td>\n",
       "      <td>NaN</td>\n",
       "      <td>NaN</td>\n",
       "      <td>0.037397</td>\n",
       "      <td>0.013136</td>\n",
       "    </tr>\n",
       "    <tr>\n",
       "      <th>Family</th>\n",
       "      <td>-0.018964</td>\n",
       "      <td>-0.061385</td>\n",
       "      <td>-0.068280</td>\n",
       "      <td>-0.167272</td>\n",
       "      <td>0.023618</td>\n",
       "      <td>1.000000</td>\n",
       "      <td>-0.066996</td>\n",
       "      <td>0.039488</td>\n",
       "      <td>0.024972</td>\n",
       "      <td>NaN</td>\n",
       "      <td>NaN</td>\n",
       "      <td>NaN</td>\n",
       "      <td>0.024214</td>\n",
       "      <td>0.011086</td>\n",
       "    </tr>\n",
       "    <tr>\n",
       "      <th>CCAvg</th>\n",
       "      <td>0.013845</td>\n",
       "      <td>-0.027979</td>\n",
       "      <td>-0.033336</td>\n",
       "      <td>0.476446</td>\n",
       "      <td>-0.027688</td>\n",
       "      <td>-0.066996</td>\n",
       "      <td>1.000000</td>\n",
       "      <td>-0.117809</td>\n",
       "      <td>-0.020246</td>\n",
       "      <td>NaN</td>\n",
       "      <td>NaN</td>\n",
       "      <td>NaN</td>\n",
       "      <td>-0.011457</td>\n",
       "      <td>-0.001340</td>\n",
       "    </tr>\n",
       "    <tr>\n",
       "      <th>Education</th>\n",
       "      <td>0.020894</td>\n",
       "      <td>0.036083</td>\n",
       "      <td>0.007097</td>\n",
       "      <td>-0.245254</td>\n",
       "      <td>-0.006008</td>\n",
       "      <td>0.039488</td>\n",
       "      <td>-0.117809</td>\n",
       "      <td>1.000000</td>\n",
       "      <td>0.007804</td>\n",
       "      <td>NaN</td>\n",
       "      <td>NaN</td>\n",
       "      <td>NaN</td>\n",
       "      <td>-0.014213</td>\n",
       "      <td>-0.021804</td>\n",
       "    </tr>\n",
       "    <tr>\n",
       "      <th>Mortgage</th>\n",
       "      <td>-0.011974</td>\n",
       "      <td>-0.013367</td>\n",
       "      <td>-0.012422</td>\n",
       "      <td>-0.052715</td>\n",
       "      <td>0.007550</td>\n",
       "      <td>0.024972</td>\n",
       "      <td>-0.020246</td>\n",
       "      <td>0.007804</td>\n",
       "      <td>1.000000</td>\n",
       "      <td>NaN</td>\n",
       "      <td>NaN</td>\n",
       "      <td>NaN</td>\n",
       "      <td>-0.031559</td>\n",
       "      <td>0.000717</td>\n",
       "    </tr>\n",
       "    <tr>\n",
       "      <th>Personal Loan</th>\n",
       "      <td>NaN</td>\n",
       "      <td>NaN</td>\n",
       "      <td>NaN</td>\n",
       "      <td>NaN</td>\n",
       "      <td>NaN</td>\n",
       "      <td>NaN</td>\n",
       "      <td>NaN</td>\n",
       "      <td>NaN</td>\n",
       "      <td>NaN</td>\n",
       "      <td>NaN</td>\n",
       "      <td>NaN</td>\n",
       "      <td>NaN</td>\n",
       "      <td>NaN</td>\n",
       "      <td>NaN</td>\n",
       "    </tr>\n",
       "    <tr>\n",
       "      <th>Securities Account</th>\n",
       "      <td>NaN</td>\n",
       "      <td>NaN</td>\n",
       "      <td>NaN</td>\n",
       "      <td>NaN</td>\n",
       "      <td>NaN</td>\n",
       "      <td>NaN</td>\n",
       "      <td>NaN</td>\n",
       "      <td>NaN</td>\n",
       "      <td>NaN</td>\n",
       "      <td>NaN</td>\n",
       "      <td>NaN</td>\n",
       "      <td>NaN</td>\n",
       "      <td>NaN</td>\n",
       "      <td>NaN</td>\n",
       "    </tr>\n",
       "    <tr>\n",
       "      <th>CD Account</th>\n",
       "      <td>NaN</td>\n",
       "      <td>NaN</td>\n",
       "      <td>NaN</td>\n",
       "      <td>NaN</td>\n",
       "      <td>NaN</td>\n",
       "      <td>NaN</td>\n",
       "      <td>NaN</td>\n",
       "      <td>NaN</td>\n",
       "      <td>NaN</td>\n",
       "      <td>NaN</td>\n",
       "      <td>NaN</td>\n",
       "      <td>NaN</td>\n",
       "      <td>NaN</td>\n",
       "      <td>NaN</td>\n",
       "    </tr>\n",
       "    <tr>\n",
       "      <th>Online</th>\n",
       "      <td>-0.010720</td>\n",
       "      <td>0.020064</td>\n",
       "      <td>0.018798</td>\n",
       "      <td>0.009050</td>\n",
       "      <td>0.037397</td>\n",
       "      <td>0.024214</td>\n",
       "      <td>-0.011457</td>\n",
       "      <td>-0.014213</td>\n",
       "      <td>-0.031559</td>\n",
       "      <td>NaN</td>\n",
       "      <td>NaN</td>\n",
       "      <td>NaN</td>\n",
       "      <td>1.000000</td>\n",
       "      <td>-0.014547</td>\n",
       "    </tr>\n",
       "    <tr>\n",
       "      <th>CreditCard</th>\n",
       "      <td>0.008467</td>\n",
       "      <td>0.007383</td>\n",
       "      <td>0.008403</td>\n",
       "      <td>0.009809</td>\n",
       "      <td>0.013136</td>\n",
       "      <td>0.011086</td>\n",
       "      <td>-0.001340</td>\n",
       "      <td>-0.021804</td>\n",
       "      <td>0.000717</td>\n",
       "      <td>NaN</td>\n",
       "      <td>NaN</td>\n",
       "      <td>NaN</td>\n",
       "      <td>-0.014547</td>\n",
       "      <td>1.000000</td>\n",
       "    </tr>\n",
       "  </tbody>\n",
       "</table>\n",
       "</div>"
      ],
      "text/plain": [
       "                          ID       Age  Experience    Income  ZIP Code  \\\n",
       "ID                  1.000000  0.010304    0.012156 -0.001002 -0.006430   \n",
       "Age                 0.010304  1.000000    0.994048 -0.038458 -0.040376   \n",
       "Experience          0.012156  0.994048    1.000000 -0.031719 -0.040397   \n",
       "Income             -0.001002 -0.038458   -0.031719  1.000000 -0.042888   \n",
       "ZIP Code           -0.006430 -0.040376   -0.040397 -0.042888  1.000000   \n",
       "Family             -0.018964 -0.061385   -0.068280 -0.167272  0.023618   \n",
       "CCAvg               0.013845 -0.027979   -0.033336  0.476446 -0.027688   \n",
       "Education           0.020894  0.036083    0.007097 -0.245254 -0.006008   \n",
       "Mortgage           -0.011974 -0.013367   -0.012422 -0.052715  0.007550   \n",
       "Personal Loan            NaN       NaN         NaN       NaN       NaN   \n",
       "Securities Account       NaN       NaN         NaN       NaN       NaN   \n",
       "CD Account               NaN       NaN         NaN       NaN       NaN   \n",
       "Online             -0.010720  0.020064    0.018798  0.009050  0.037397   \n",
       "CreditCard          0.008467  0.007383    0.008403  0.009809  0.013136   \n",
       "\n",
       "                      Family     CCAvg  Education  Mortgage  Personal Loan  \\\n",
       "ID                 -0.018964  0.013845   0.020894 -0.011974            NaN   \n",
       "Age                -0.061385 -0.027979   0.036083 -0.013367            NaN   \n",
       "Experience         -0.068280 -0.033336   0.007097 -0.012422            NaN   \n",
       "Income             -0.167272  0.476446  -0.245254 -0.052715            NaN   \n",
       "ZIP Code            0.023618 -0.027688  -0.006008  0.007550            NaN   \n",
       "Family              1.000000 -0.066996   0.039488  0.024972            NaN   \n",
       "CCAvg              -0.066996  1.000000  -0.117809 -0.020246            NaN   \n",
       "Education           0.039488 -0.117809   1.000000  0.007804            NaN   \n",
       "Mortgage            0.024972 -0.020246   0.007804  1.000000            NaN   \n",
       "Personal Loan            NaN       NaN        NaN       NaN            NaN   \n",
       "Securities Account       NaN       NaN        NaN       NaN            NaN   \n",
       "CD Account               NaN       NaN        NaN       NaN            NaN   \n",
       "Online              0.024214 -0.011457  -0.014213 -0.031559            NaN   \n",
       "CreditCard          0.011086 -0.001340  -0.021804  0.000717            NaN   \n",
       "\n",
       "                    Securities Account  CD Account    Online  CreditCard  \n",
       "ID                                 NaN         NaN -0.010720    0.008467  \n",
       "Age                                NaN         NaN  0.020064    0.007383  \n",
       "Experience                         NaN         NaN  0.018798    0.008403  \n",
       "Income                             NaN         NaN  0.009050    0.009809  \n",
       "ZIP Code                           NaN         NaN  0.037397    0.013136  \n",
       "Family                             NaN         NaN  0.024214    0.011086  \n",
       "CCAvg                              NaN         NaN -0.011457   -0.001340  \n",
       "Education                          NaN         NaN -0.014213   -0.021804  \n",
       "Mortgage                           NaN         NaN -0.031559    0.000717  \n",
       "Personal Loan                      NaN         NaN       NaN         NaN  \n",
       "Securities Account                 NaN         NaN       NaN         NaN  \n",
       "CD Account                         NaN         NaN       NaN         NaN  \n",
       "Online                             NaN         NaN  1.000000   -0.014547  \n",
       "CreditCard                         NaN         NaN -0.014547    1.000000  "
      ]
     },
     "execution_count": 35,
     "metadata": {},
     "output_type": "execute_result"
    },
    {
     "data": {
      "image/png": "[encoded data removed]",
      "text/plain": [
       "<Figure size 1440x720 with 2 Axes>"
      ]
     },
     "metadata": {},
     "output_type": "display_data"
    }
   ],
   "source": [
    "# Finding the relations between the variables.\n",
    "plt.figure(figsize=(20,10))\n",
    "c= df.corr()\n",
    "sns.heatmap(c,cmap=\"BrBG\",annot=True)\n",
    "c\n"
   ]
  },
  {
   "cell_type": "code",
   "execution_count": 36,
   "metadata": {},
   "outputs": [
    {
     "data": {
      "text/html": [
       "<div>\n",
       "<style scoped>\n",
       "    .dataframe tbody tr th:only-of-type {\n",
       "        vertical-align: middle;\n",
       "    }\n",
       "\n",
       "    .dataframe tbody tr th {\n",
       "        vertical-align: top;\n",
       "    }\n",
       "\n",
       "    .dataframe thead th {\n",
       "        text-align: right;\n",
       "    }\n",
       "</style>\n",
       "<table border=\"1\" class=\"dataframe\">\n",
       "  <thead>\n",
       "    <tr style=\"text-align: right;\">\n",
       "      <th></th>\n",
       "      <th>ID</th>\n",
       "      <th>Age</th>\n",
       "      <th>Experience</th>\n",
       "      <th>Income</th>\n",
       "      <th>ZIP Code</th>\n",
       "      <th>CCAvg</th>\n",
       "      <th>Mortgage</th>\n",
       "      <th>Family_2</th>\n",
       "      <th>Family_3</th>\n",
       "      <th>Family_4</th>\n",
       "      <th>Education_2</th>\n",
       "      <th>Education_3</th>\n",
       "      <th>Online_1</th>\n",
       "      <th>CreditCard_1</th>\n",
       "    </tr>\n",
       "  </thead>\n",
       "  <tbody>\n",
       "    <tr>\n",
       "      <th>2</th>\n",
       "      <td>3</td>\n",
       "      <td>39</td>\n",
       "      <td>15</td>\n",
       "      <td>11</td>\n",
       "      <td>94720</td>\n",
       "      <td>1.0</td>\n",
       "      <td>0</td>\n",
       "      <td>0</td>\n",
       "      <td>0</td>\n",
       "      <td>0</td>\n",
       "      <td>0</td>\n",
       "      <td>0</td>\n",
       "      <td>0</td>\n",
       "      <td>0</td>\n",
       "    </tr>\n",
       "    <tr>\n",
       "      <th>3</th>\n",
       "      <td>4</td>\n",
       "      <td>35</td>\n",
       "      <td>9</td>\n",
       "      <td>100</td>\n",
       "      <td>94112</td>\n",
       "      <td>2.7</td>\n",
       "      <td>0</td>\n",
       "      <td>0</td>\n",
       "      <td>0</td>\n",
       "      <td>0</td>\n",
       "      <td>1</td>\n",
       "      <td>0</td>\n",
       "      <td>0</td>\n",
       "      <td>0</td>\n",
       "    </tr>\n",
       "    <tr>\n",
       "      <th>4</th>\n",
       "      <td>5</td>\n",
       "      <td>35</td>\n",
       "      <td>8</td>\n",
       "      <td>45</td>\n",
       "      <td>91330</td>\n",
       "      <td>1.0</td>\n",
       "      <td>0</td>\n",
       "      <td>0</td>\n",
       "      <td>0</td>\n",
       "      <td>1</td>\n",
       "      <td>1</td>\n",
       "      <td>0</td>\n",
       "      <td>0</td>\n",
       "      <td>1</td>\n",
       "    </tr>\n",
       "    <tr>\n",
       "      <th>5</th>\n",
       "      <td>6</td>\n",
       "      <td>37</td>\n",
       "      <td>13</td>\n",
       "      <td>29</td>\n",
       "      <td>92121</td>\n",
       "      <td>0.4</td>\n",
       "      <td>155</td>\n",
       "      <td>0</td>\n",
       "      <td>0</td>\n",
       "      <td>1</td>\n",
       "      <td>1</td>\n",
       "      <td>0</td>\n",
       "      <td>1</td>\n",
       "      <td>0</td>\n",
       "    </tr>\n",
       "    <tr>\n",
       "      <th>6</th>\n",
       "      <td>7</td>\n",
       "      <td>53</td>\n",
       "      <td>27</td>\n",
       "      <td>72</td>\n",
       "      <td>91711</td>\n",
       "      <td>1.5</td>\n",
       "      <td>0</td>\n",
       "      <td>1</td>\n",
       "      <td>0</td>\n",
       "      <td>0</td>\n",
       "      <td>1</td>\n",
       "      <td>0</td>\n",
       "      <td>1</td>\n",
       "      <td>0</td>\n",
       "    </tr>\n",
       "  </tbody>\n",
       "</table>\n",
       "</div>"
      ],
      "text/plain": [
       "   ID  Age  Experience  Income  ZIP Code  CCAvg  Mortgage  Family_2  Family_3  \\\n",
       "2   3   39          15      11     94720    1.0         0         0         0   \n",
       "3   4   35           9     100     94112    2.7         0         0         0   \n",
       "4   5   35           8      45     91330    1.0         0         0         0   \n",
       "5   6   37          13      29     92121    0.4       155         0         0   \n",
       "6   7   53          27      72     91711    1.5         0         1         0   \n",
       "\n",
       "   Family_4  Education_2  Education_3  Online_1  CreditCard_1  \n",
       "2         0            0            0         0             0  \n",
       "3         0            1            0         0             0  \n",
       "4         1            1            0         0             1  \n",
       "5         1            1            0         1             0  \n",
       "6         0            1            0         1             0  "
      ]
     },
     "execution_count": 36,
     "metadata": {},
     "output_type": "execute_result"
    }
   ],
   "source": [
    "## Convert Categorical Columns to Dummies\n",
    "cat_cols = [\"Family\",\"Education\",\"Personal Loan\",\"Securities Account\",\"CD Account\",\"Online\",\"CreditCard\"]\n",
    "df2 = pd.get_dummies(df,columns=cat_cols,drop_first=True,)\n",
    "df2.head(5)\n"
   ]
  },
  {
   "cell_type": "code",
   "execution_count": 37,
   "metadata": {},
   "outputs": [
    {
     "data": {
      "text/html": [
       "<div>\n",
       "<style scoped>\n",
       "    .dataframe tbody tr th:only-of-type {\n",
       "        vertical-align: middle;\n",
       "    }\n",
       "\n",
       "    .dataframe tbody tr th {\n",
       "        vertical-align: top;\n",
       "    }\n",
       "\n",
       "    .dataframe thead th {\n",
       "        text-align: right;\n",
       "    }\n",
       "</style>\n",
       "<table border=\"1\" class=\"dataframe\">\n",
       "  <thead>\n",
       "    <tr style=\"text-align: right;\">\n",
       "      <th></th>\n",
       "      <th>ID</th>\n",
       "      <th>Age</th>\n",
       "      <th>Experience</th>\n",
       "      <th>Income</th>\n",
       "      <th>ZIP Code</th>\n",
       "      <th>CCAvg</th>\n",
       "      <th>Mortgage</th>\n",
       "      <th>Family_2</th>\n",
       "      <th>Family_3</th>\n",
       "      <th>Family_4</th>\n",
       "      <th>Education_2</th>\n",
       "      <th>Education_3</th>\n",
       "      <th>Online_1</th>\n",
       "      <th>CreditCard_1</th>\n",
       "    </tr>\n",
       "  </thead>\n",
       "  <tbody>\n",
       "    <tr>\n",
       "      <th>ID</th>\n",
       "      <td>1.000000</td>\n",
       "      <td>0.010304</td>\n",
       "      <td>0.012156</td>\n",
       "      <td>-0.001002</td>\n",
       "      <td>-0.006430</td>\n",
       "      <td>0.013845</td>\n",
       "      <td>-0.011974</td>\n",
       "      <td>0.019157</td>\n",
       "      <td>0.001953</td>\n",
       "      <td>-0.024299</td>\n",
       "      <td>-0.000945</td>\n",
       "      <td>0.019419</td>\n",
       "      <td>-0.010720</td>\n",
       "      <td>0.008467</td>\n",
       "    </tr>\n",
       "    <tr>\n",
       "      <th>Age</th>\n",
       "      <td>0.010304</td>\n",
       "      <td>1.000000</td>\n",
       "      <td>0.994048</td>\n",
       "      <td>-0.038458</td>\n",
       "      <td>-0.040376</td>\n",
       "      <td>-0.027979</td>\n",
       "      <td>-0.013367</td>\n",
       "      <td>0.019426</td>\n",
       "      <td>0.037460</td>\n",
       "      <td>-0.084045</td>\n",
       "      <td>-0.019958</td>\n",
       "      <td>0.042519</td>\n",
       "      <td>0.020064</td>\n",
       "      <td>0.007383</td>\n",
       "    </tr>\n",
       "    <tr>\n",
       "      <th>Experience</th>\n",
       "      <td>0.012156</td>\n",
       "      <td>0.994048</td>\n",
       "      <td>1.000000</td>\n",
       "      <td>-0.031719</td>\n",
       "      <td>-0.040397</td>\n",
       "      <td>-0.033336</td>\n",
       "      <td>-0.012422</td>\n",
       "      <td>0.023655</td>\n",
       "      <td>0.027756</td>\n",
       "      <td>-0.085532</td>\n",
       "      <td>-0.021453</td>\n",
       "      <td>0.016955</td>\n",
       "      <td>0.018798</td>\n",
       "      <td>0.008403</td>\n",
       "    </tr>\n",
       "    <tr>\n",
       "      <th>Income</th>\n",
       "      <td>-0.001002</td>\n",
       "      <td>-0.038458</td>\n",
       "      <td>-0.031719</td>\n",
       "      <td>1.000000</td>\n",
       "      <td>-0.042888</td>\n",
       "      <td>0.476446</td>\n",
       "      <td>-0.052715</td>\n",
       "      <td>0.095300</td>\n",
       "      <td>-0.087399</td>\n",
       "      <td>-0.125417</td>\n",
       "      <td>-0.151254</td>\n",
       "      <td>-0.148357</td>\n",
       "      <td>0.009050</td>\n",
       "      <td>0.009809</td>\n",
       "    </tr>\n",
       "    <tr>\n",
       "      <th>ZIP Code</th>\n",
       "      <td>-0.006430</td>\n",
       "      <td>-0.040376</td>\n",
       "      <td>-0.040397</td>\n",
       "      <td>-0.042888</td>\n",
       "      <td>1.000000</td>\n",
       "      <td>-0.027688</td>\n",
       "      <td>0.007550</td>\n",
       "      <td>-0.011723</td>\n",
       "      <td>0.008869</td>\n",
       "      <td>0.019294</td>\n",
       "      <td>0.038509</td>\n",
       "      <td>-0.024328</td>\n",
       "      <td>0.037397</td>\n",
       "      <td>0.013136</td>\n",
       "    </tr>\n",
       "    <tr>\n",
       "      <th>CCAvg</th>\n",
       "      <td>0.013845</td>\n",
       "      <td>-0.027979</td>\n",
       "      <td>-0.033336</td>\n",
       "      <td>0.476446</td>\n",
       "      <td>-0.027688</td>\n",
       "      <td>1.000000</td>\n",
       "      <td>-0.020246</td>\n",
       "      <td>0.009480</td>\n",
       "      <td>-0.061276</td>\n",
       "      <td>-0.024579</td>\n",
       "      <td>-0.068584</td>\n",
       "      <td>-0.073260</td>\n",
       "      <td>-0.011457</td>\n",
       "      <td>-0.001340</td>\n",
       "    </tr>\n",
       "    <tr>\n",
       "      <th>Mortgage</th>\n",
       "      <td>-0.011974</td>\n",
       "      <td>-0.013367</td>\n",
       "      <td>-0.012422</td>\n",
       "      <td>-0.052715</td>\n",
       "      <td>0.007550</td>\n",
       "      <td>-0.020246</td>\n",
       "      <td>1.000000</td>\n",
       "      <td>0.014797</td>\n",
       "      <td>-0.002136</td>\n",
       "      <td>0.018656</td>\n",
       "      <td>-0.006307</td>\n",
       "      <td>0.010172</td>\n",
       "      <td>-0.031559</td>\n",
       "      <td>0.000717</td>\n",
       "    </tr>\n",
       "    <tr>\n",
       "      <th>Family_2</th>\n",
       "      <td>0.019157</td>\n",
       "      <td>0.019426</td>\n",
       "      <td>0.023655</td>\n",
       "      <td>0.095300</td>\n",
       "      <td>-0.011723</td>\n",
       "      <td>0.009480</td>\n",
       "      <td>0.014797</td>\n",
       "      <td>1.000000</td>\n",
       "      <td>-0.287725</td>\n",
       "      <td>-0.329428</td>\n",
       "      <td>-0.102885</td>\n",
       "      <td>0.015827</td>\n",
       "      <td>-0.035852</td>\n",
       "      <td>0.026821</td>\n",
       "    </tr>\n",
       "    <tr>\n",
       "      <th>Family_3</th>\n",
       "      <td>0.001953</td>\n",
       "      <td>0.037460</td>\n",
       "      <td>0.027756</td>\n",
       "      <td>-0.087399</td>\n",
       "      <td>0.008869</td>\n",
       "      <td>-0.061276</td>\n",
       "      <td>-0.002136</td>\n",
       "      <td>-0.287725</td>\n",
       "      <td>1.000000</td>\n",
       "      <td>-0.299611</td>\n",
       "      <td>0.129978</td>\n",
       "      <td>-0.054977</td>\n",
       "      <td>0.010016</td>\n",
       "      <td>-0.018512</td>\n",
       "    </tr>\n",
       "    <tr>\n",
       "      <th>Family_4</th>\n",
       "      <td>-0.024299</td>\n",
       "      <td>-0.084045</td>\n",
       "      <td>-0.085532</td>\n",
       "      <td>-0.125417</td>\n",
       "      <td>0.019294</td>\n",
       "      <td>-0.024579</td>\n",
       "      <td>0.018656</td>\n",
       "      <td>-0.329428</td>\n",
       "      <td>-0.299611</td>\n",
       "      <td>1.000000</td>\n",
       "      <td>0.078542</td>\n",
       "      <td>-0.000818</td>\n",
       "      <td>0.026992</td>\n",
       "      <td>0.012554</td>\n",
       "    </tr>\n",
       "    <tr>\n",
       "      <th>Education_2</th>\n",
       "      <td>-0.000945</td>\n",
       "      <td>-0.019958</td>\n",
       "      <td>-0.021453</td>\n",
       "      <td>-0.151254</td>\n",
       "      <td>0.038509</td>\n",
       "      <td>-0.068584</td>\n",
       "      <td>-0.006307</td>\n",
       "      <td>-0.102885</td>\n",
       "      <td>0.129978</td>\n",
       "      <td>0.078542</td>\n",
       "      <td>1.000000</td>\n",
       "      <td>-0.425570</td>\n",
       "      <td>0.012751</td>\n",
       "      <td>-0.010185</td>\n",
       "    </tr>\n",
       "    <tr>\n",
       "      <th>Education_3</th>\n",
       "      <td>0.019419</td>\n",
       "      <td>0.042519</td>\n",
       "      <td>0.016955</td>\n",
       "      <td>-0.148357</td>\n",
       "      <td>-0.024328</td>\n",
       "      <td>-0.073260</td>\n",
       "      <td>0.010172</td>\n",
       "      <td>0.015827</td>\n",
       "      <td>-0.054977</td>\n",
       "      <td>-0.000818</td>\n",
       "      <td>-0.425570</td>\n",
       "      <td>1.000000</td>\n",
       "      <td>-0.019145</td>\n",
       "      <td>-0.014789</td>\n",
       "    </tr>\n",
       "    <tr>\n",
       "      <th>Online_1</th>\n",
       "      <td>-0.010720</td>\n",
       "      <td>0.020064</td>\n",
       "      <td>0.018798</td>\n",
       "      <td>0.009050</td>\n",
       "      <td>0.037397</td>\n",
       "      <td>-0.011457</td>\n",
       "      <td>-0.031559</td>\n",
       "      <td>-0.035852</td>\n",
       "      <td>0.010016</td>\n",
       "      <td>0.026992</td>\n",
       "      <td>0.012751</td>\n",
       "      <td>-0.019145</td>\n",
       "      <td>1.000000</td>\n",
       "      <td>-0.014547</td>\n",
       "    </tr>\n",
       "    <tr>\n",
       "      <th>CreditCard_1</th>\n",
       "      <td>0.008467</td>\n",
       "      <td>0.007383</td>\n",
       "      <td>0.008403</td>\n",
       "      <td>0.009809</td>\n",
       "      <td>0.013136</td>\n",
       "      <td>-0.001340</td>\n",
       "      <td>0.000717</td>\n",
       "      <td>0.026821</td>\n",
       "      <td>-0.018512</td>\n",
       "      <td>0.012554</td>\n",
       "      <td>-0.010185</td>\n",
       "      <td>-0.014789</td>\n",
       "      <td>-0.014547</td>\n",
       "      <td>1.000000</td>\n",
       "    </tr>\n",
       "  </tbody>\n",
       "</table>\n",
       "</div>"
      ],
      "text/plain": [
       "                    ID       Age  Experience    Income  ZIP Code     CCAvg  \\\n",
       "ID            1.000000  0.010304    0.012156 -0.001002 -0.006430  0.013845   \n",
       "Age           0.010304  1.000000    0.994048 -0.038458 -0.040376 -0.027979   \n",
       "Experience    0.012156  0.994048    1.000000 -0.031719 -0.040397 -0.033336   \n",
       "Income       -0.001002 -0.038458   -0.031719  1.000000 -0.042888  0.476446   \n",
       "ZIP Code     -0.006430 -0.040376   -0.040397 -0.042888  1.000000 -0.027688   \n",
       "CCAvg         0.013845 -0.027979   -0.033336  0.476446 -0.027688  1.000000   \n",
       "Mortgage     -0.011974 -0.013367   -0.012422 -0.052715  0.007550 -0.020246   \n",
       "Family_2      0.019157  0.019426    0.023655  0.095300 -0.011723  0.009480   \n",
       "Family_3      0.001953  0.037460    0.027756 -0.087399  0.008869 -0.061276   \n",
       "Family_4     -0.024299 -0.084045   -0.085532 -0.125417  0.019294 -0.024579   \n",
       "Education_2  -0.000945 -0.019958   -0.021453 -0.151254  0.038509 -0.068584   \n",
       "Education_3   0.019419  0.042519    0.016955 -0.148357 -0.024328 -0.073260   \n",
       "Online_1     -0.010720  0.020064    0.018798  0.009050  0.037397 -0.011457   \n",
       "CreditCard_1  0.008467  0.007383    0.008403  0.009809  0.013136 -0.001340   \n",
       "\n",
       "              Mortgage  Family_2  Family_3  Family_4  Education_2  \\\n",
       "ID           -0.011974  0.019157  0.001953 -0.024299    -0.000945   \n",
       "Age          -0.013367  0.019426  0.037460 -0.084045    -0.019958   \n",
       "Experience   -0.012422  0.023655  0.027756 -0.085532    -0.021453   \n",
       "Income       -0.052715  0.095300 -0.087399 -0.125417    -0.151254   \n",
       "ZIP Code      0.007550 -0.011723  0.008869  0.019294     0.038509   \n",
       "CCAvg        -0.020246  0.009480 -0.061276 -0.024579    -0.068584   \n",
       "Mortgage      1.000000  0.014797 -0.002136  0.018656    -0.006307   \n",
       "Family_2      0.014797  1.000000 -0.287725 -0.329428    -0.102885   \n",
       "Family_3     -0.002136 -0.287725  1.000000 -0.299611     0.129978   \n",
       "Family_4      0.018656 -0.329428 -0.299611  1.000000     0.078542   \n",
       "Education_2  -0.006307 -0.102885  0.129978  0.078542     1.000000   \n",
       "Education_3   0.010172  0.015827 -0.054977 -0.000818    -0.425570   \n",
       "Online_1     -0.031559 -0.035852  0.010016  0.026992     0.012751   \n",
       "CreditCard_1  0.000717  0.026821 -0.018512  0.012554    -0.010185   \n",
       "\n",
       "              Education_3  Online_1  CreditCard_1  \n",
       "ID               0.019419 -0.010720      0.008467  \n",
       "Age              0.042519  0.020064      0.007383  \n",
       "Experience       0.016955  0.018798      0.008403  \n",
       "Income          -0.148357  0.009050      0.009809  \n",
       "ZIP Code        -0.024328  0.037397      0.013136  \n",
       "CCAvg           -0.073260 -0.011457     -0.001340  \n",
       "Mortgage         0.010172 -0.031559      0.000717  \n",
       "Family_2         0.015827 -0.035852      0.026821  \n",
       "Family_3        -0.054977  0.010016     -0.018512  \n",
       "Family_4        -0.000818  0.026992      0.012554  \n",
       "Education_2     -0.425570  0.012751     -0.010185  \n",
       "Education_3      1.000000 -0.019145     -0.014789  \n",
       "Online_1        -0.019145  1.000000     -0.014547  \n",
       "CreditCard_1    -0.014789 -0.014547      1.000000  "
      ]
     },
     "execution_count": 37,
     "metadata": {},
     "output_type": "execute_result"
    },
    {
     "data": {
      "image/png": "[encoded data removed]",
      "text/plain": [
       "<Figure size 1440x720 with 2 Axes>"
      ]
     },
     "metadata": {},
     "output_type": "display_data"
    }
   ],
   "source": [
    "# Finding the relations between the variables.\n",
    "plt.figure(figsize=(20,10))\n",
    "c= df2.corr()\n",
    "sns.heatmap(c,annot=True)\n",
    "c\n"
   ]
  },
  {
   "cell_type": "markdown",
   "metadata": {},
   "source": [
    "### <font color='green'> Here we have used heatmap to find out the correlation among various variables present in the dataset so we can see that age and experience have high correlation among them and they are positively correlated whereas correlation between income and credit card average is almost 50% and we can see that variables like credit card average and online transaction are negetively correlated. Also, we can notice that level of education and credit card average are negetively correlated.so, in this was with respect to the colour's brightness and darkness we can map the correlation.Though earlier we were not able to plot the whole heatmap due to some binary values but later chaning them into categorical values we could get the whole correlation.</font>"
   ]
  },
  {
   "cell_type": "code",
   "execution_count": 38,
   "metadata": {},
   "outputs": [
    {
     "data": {
      "image/png": "[encoded data removed]",
      "text/plain": [
       "<Figure size 720x720 with 1 Axes>"
      ]
     },
     "metadata": {},
     "output_type": "display_data"
    }
   ],
   "source": [
    "# Plotting a scatter plot\n",
    "fig, ax = plt.subplots(figsize=(10,10))\n",
    "ax.scatter(df['Age'],df['Income'])\n",
    "ax.set_xlabel('Age')\n",
    "ax.set_ylabel('Income')\n",
    "plt.show()\n"
   ]
  },
  {
   "cell_type": "markdown",
   "metadata": {},
   "source": [
    "### The insight from the scatter plot might not be very useful for our analysis though we can see that there are outlier in the income of the people with respect to their ages."
   ]
  },
  {
   "cell_type": "code",
   "execution_count": 78,
   "metadata": {},
   "outputs": [],
   "source": [
    "#running logistic regression\n",
    "x = df1\n",
    "y = df1['Personal Loan']\n",
    "df3 = df1.drop('Personal Loan', axis = 1)\n",
    "\n",
    "x_train, x_test, y_train, y_test = train_test_split(x, y, test_size = 0.2, random_state = 0)\n"
   ]
  },
  {
   "cell_type": "markdown",
   "metadata": {},
   "source": [
    "#### For statistical modelling we are using here logistic regression as this a problem of binary classification and here the dependent variable is - Personal loan and the data splitting has been done in the ratio of 80:20 ratio"
   ]
  },
  {
   "cell_type": "code",
   "execution_count": 51,
   "metadata": {},
   "outputs": [
    {
     "name": "stdout",
     "output_type": "stream",
     "text": [
      "Shape of x_train : (4000, 14)\n",
      "Shape of x_test : (1000, 14)\n",
      "Shape of y_train : (4000,)\n",
      "Shape of y_test : (1000,)\n"
     ]
    }
   ],
   "source": [
    "print(\"Shape of x_train :\", x_train.shape)\n",
    "print(\"Shape of x_test :\", x_test.shape)\n",
    "print(\"Shape of y_train :\", y_train.shape)\n",
    "print(\"Shape of y_test :\", y_test.shape)\n"
   ]
  },
  {
   "cell_type": "code",
   "execution_count": 65,
   "metadata": {},
   "outputs": [],
   "source": [
    "# Logistic Regression model building\n",
    "\n",
    "from sklearn.linear_model import LogisticRegression\n",
    "from sklearn.metrics import accuracy_score \n",
    "model = LogisticRegression()\n",
    "model.fit(x , y)\n",
    "predicted_classes = model.predict(x)\n",
    "accuracy = accuracy_score(y,predicted_classes)\n",
    "parameters = model.coef_\n"
   ]
  },
  {
   "cell_type": "markdown",
   "metadata": {},
   "source": [
    "#### <font color='purple'> Above are the codes for logistic regression.</font>"
   ]
  },
  {
   "cell_type": "code",
   "execution_count": 67,
   "metadata": {},
   "outputs": [
    {
     "name": "stdout",
     "output_type": "stream",
     "text": [
      "Accuracy : 0.9076\n",
      "parm: [[-5.65834686e-05  4.37250858e-04  3.55581572e-04  3.65771070e-02\n",
      "  -6.45748676e-05  8.42707642e-04  1.28895412e-03  1.02422184e-03\n",
      "   7.14145276e-04  1.40825491e-03  4.99961346e-05  3.46824925e-04\n",
      "  -3.47982381e-06  9.65876114e-06]]\n",
      "Model: LogisticRegression(C=1.0, class_weight=None, dual=False, fit_intercept=True,\n",
      "          intercept_scaling=1, max_iter=100, multi_class='warn',\n",
      "          n_jobs=None, penalty='l2', random_state=None, solver='warn',\n",
      "          tol=0.0001, verbose=0, warm_start=False)\n"
     ]
    }
   ],
   "source": [
    "print(\"Accuracy :\",accuracy)\n",
    "print(\"parm:\",parameters)\n",
    "print(\"Model:\",model)\n"
   ]
  },
  {
   "cell_type": "markdown",
   "metadata": {},
   "source": [
    "#### The above codes helps us to get the accuracy at which the model is able to predict the wether a person is eligible for personal loan or not.\n",
    "#### Therefore, we can say that accuracy of the model that we got is 90.76%, which means the model is able to predict the customers 90.76% accurately."
   ]
  },
  {
   "attachments": {
    "thankyou.jpg": {
     "image/jpeg": "[encoded data removed]"
    }
   },
   "cell_type": "markdown",
   "metadata": {},
   "source": [
    "![thankyou.jpg](attachment:thankyou.jpg)"
   ]
  },
  {
   "cell_type": "markdown",
   "metadata": {},
   "source": [
    "#### Inserting Image"
   ]
  },
  {
   "cell_type": "code",
   "execution_count": null,
   "metadata": {},
   "outputs": [],
   "source": []
  }
 ],
 "metadata": {
  "kernelspec": {
   "display_name": "Python 3",
   "language": "python",
   "name": "python3"
  },
  "language_info": {
   "codemirror_mode": {
    "name": "ipython",
    "version": 3
   },
   "file_extension": ".py",
   "mimetype": "text/x-python",
   "name": "python",
   "nbconvert_exporter": "python",
   "pygments_lexer": "ipython3",
   "version": "3.7.3"
  }
 },
 "nbformat": 4,
 "nbformat_minor": 2
}
